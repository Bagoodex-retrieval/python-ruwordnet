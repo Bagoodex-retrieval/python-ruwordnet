{
 "cells": [
  {
   "cell_type": "code",
   "execution_count": null,
   "metadata": {},
   "outputs": [],
   "source": [
    "!pip install numpy scikit-learn compress-fasttext xmltodict matplotlib"
   ]
  },
  {
   "cell_type": "code",
   "execution_count": 109,
   "metadata": {},
   "outputs": [],
   "source": [
    "from importlib import reload\n",
    "\n",
    "import ruwordnet.synsets\n",
    "import ruwordnet.ruwordnet\n",
    "\n",
    "reload(ruwordnet.synsets)\n",
    "reload(ruwordnet.ruwordnet)\n",
    "\n",
    "from ruwordnet.ruwordnet import RuWordNet"
   ]
  },
  {
   "cell_type": "code",
   "execution_count": 1,
   "metadata": {},
   "outputs": [],
   "source": [
    "from ruwordnet import RuWordNet\n",
    "wn = RuWordNet()\n",
    "wn.load_from_xml(root='data')"
   ]
  },
  {
   "cell_type": "markdown",
   "metadata": {},
   "source": [
    "# Using the thesaurus"
   ]
  },
  {
   "cell_type": "code",
   "execution_count": 22,
   "metadata": {},
   "outputs": [
    {
     "name": "stdout",
     "output_type": "stream",
     "text": [
      "Synset(id=\"126228-N\", title=\"СРЕДНЕВЕКОВЫЙ ЗАМОК\")\n",
      "Synset(id=\"114707-N\", title=\"ЗАМОК ДЛЯ ЗАПИРАНИЯ\")\n"
     ]
    }
   ],
   "source": [
    "for sense in wn.get_senses('замок'):\n",
    "    print(sense.synset)"
   ]
  },
  {
   "cell_type": "code",
   "execution_count": 28,
   "metadata": {},
   "outputs": [
    {
     "data": {
      "text/plain": [
       "[Synset(id=\"113935-N\", title=\"ДВОРЕЦ\"),\n",
       " Synset(id=\"124420-N\", title=\"КРЕПОСТЬ (ОБОРОНИТЕЛЬНОЕ СООРУЖЕНИЕ)\")]"
      ]
     },
     "execution_count": 28,
     "metadata": {},
     "output_type": "execute_result"
    }
   ],
   "source": [
    "wn.get_senses('замок')[0].synset.hypernyms"
   ]
  },
  {
   "cell_type": "code",
   "execution_count": 12,
   "metadata": {},
   "outputs": [
    {
     "data": {
      "text/plain": [
       "[Synset(id=\"348-N\", title=\"ОВОЩИ\"),\n",
       " Synset(id=\"4789-N\", title=\"ТРАВЯНИСТОЕ РАСТЕНИЕ\"),\n",
       " Synset(id=\"6878-N\", title=\"ОВОЩНАЯ КУЛЬТУРА\")]"
      ]
     },
     "execution_count": 12,
     "metadata": {},
     "output_type": "execute_result"
    }
   ],
   "source": [
    "wn.get_senses('спаржа')[0].synset.hypernyms"
   ]
  },
  {
   "cell_type": "code",
   "execution_count": 94,
   "metadata": {},
   "outputs": [
    {
     "data": {
      "text/plain": [
       "[Sense(id=\"153966-N-124560\", name=\"АВОКАДО\"),\n",
       " Sense(id=\"144242-N-124560\", name=\"АВОКАДО\"),\n",
       " Sense(id=\"144305-N-124560\", name=\"АВОКАДО\")]"
      ]
     },
     "execution_count": 94,
     "metadata": {},
     "output_type": "execute_result"
    }
   ],
   "source": [
    "wn.get_senses('авокадо')"
   ]
  },
  {
   "cell_type": "code",
   "execution_count": 130,
   "metadata": {},
   "outputs": [
    {
     "data": {
      "text/plain": [
       "Synset(id=\"348-N\", title=\"ОВОЩИ\")"
      ]
     },
     "execution_count": 130,
     "metadata": {},
     "output_type": "execute_result"
    }
   ],
   "source": [
    "veg = wn.get_senses('спаржа')[0].synset.hypernyms[0]\n",
    "veg"
   ]
  },
  {
   "cell_type": "code",
   "execution_count": 131,
   "metadata": {},
   "outputs": [
    {
     "data": {
      "text/plain": [
       "[Synset(id=\"107993-N\", title=\"АРТИШОК\"),\n",
       " Synset(id=\"108482-N\", title=\"СПАРЖА\"),\n",
       " Synset(id=\"118660-N\", title=\"ЗЕЛЕНЫЙ ГОРОШЕК\"),\n",
       " Synset(id=\"144181-N\", title=\"БАКЛАЖАН (ПЛОД)\"),\n",
       " Synset(id=\"144182-N\", title=\"ЛУК (РАСТЕНИЕ)\"),\n",
       " Synset(id=\"144183-N\", title=\"ЧЕСНОК\"),\n",
       " Synset(id=\"144184-N\", title=\"ОГУРЕЦ (ПЛОД)\"),\n",
       " Synset(id=\"144191-N\", title=\"ПОМИДОР (ПЛОД)\"),\n",
       " Synset(id=\"144194-N\", title=\"ТЫКВА (ПЛОД)\"),\n",
       " Synset(id=\"144207-N\", title=\"СТРУЧКОВЫЙ ПЕРЕЦ (ПЛОД)\"),\n",
       " Synset(id=\"144216-N\", title=\"КАБАЧОК (ПЛОД)\"),\n",
       " Synset(id=\"144232-N\", title=\"КОЧАН КАПУСТЫ\"),\n",
       " Synset(id=\"148896-N\", title=\"КОРНЕПЛОДНЫЕ ОВОЩИ\"),\n",
       " Synset(id=\"153883-N\", title=\"ЗЕЛЕНЬ (ОВОЩИ)\")]"
      ]
     },
     "execution_count": 131,
     "metadata": {},
     "output_type": "execute_result"
    }
   ],
   "source": [
    "veg.hyponyms"
   ]
  },
  {
   "cell_type": "code",
   "execution_count": 132,
   "metadata": {},
   "outputs": [
    {
     "data": {
      "text/plain": [
       "[Sense(id=\"134270-N-189833\", name=\"НЕСУЩАЯ СТЕНА\"),\n",
       " Sense(id=\"134270-N-745751\", name=\"КАПИТАЛЬНАЯ СТЕНА\")]"
      ]
     },
     "execution_count": 132,
     "metadata": {},
     "output_type": "execute_result"
    }
   ],
   "source": [
    "wn.get_senses('продукт')[0].synset.hyponyms[0].hyponyms[1].hyponyms[0].sense"
   ]
  },
  {
   "cell_type": "markdown",
   "metadata": {},
   "source": [
    "# Predicting hypernyms"
   ]
  },
  {
   "cell_type": "code",
   "execution_count": 4,
   "metadata": {},
   "outputs": [],
   "source": [
    "import numpy as np\n",
    "import compress_fasttext\n",
    "\n",
    "from collections import Counter\n",
    "from sklearn.neighbors import KDTree\n",
    "\n",
    "import matplotlib.pyplot as plt\n",
    "%matplotlib inline"
   ]
  },
  {
   "cell_type": "code",
   "execution_count": 5,
   "metadata": {},
   "outputs": [],
   "source": [
    "ft = compress_fasttext.models.CompressedFastTextKeyedVectors.load(\n",
    "    'https://github.com/avidale/compress-fasttext/releases/download/v0.0.1/ft_freqprune_100K_20K_pq_100.bin'\n",
    ")"
   ]
  },
  {
   "cell_type": "code",
   "execution_count": 6,
   "metadata": {},
   "outputs": [],
   "source": [
    "def vectorize(text):\n",
    "    vec = np.mean([ft[word] for word in text.lower().split() if len(word) >= 3], axis=0)\n",
    "    vec /= sum(vec**2) ** 0.5 \n",
    "    return vec\n",
    "\n",
    "def distance2vote(d, a=3, b=5):\n",
    "    sim = np.maximum(0, 1 - d**2/2)\n",
    "    return np.exp(-d**a) * sim **b"
   ]
  },
  {
   "cell_type": "code",
   "execution_count": 7,
   "metadata": {},
   "outputs": [
    {
     "data": {
      "image/png": "[encoded data removed]",
      "text/plain": [
       "<Figure size 432x288 with 1 Axes>"
      ]
     },
     "metadata": {
      "needs_background": "light"
     },
     "output_type": "display_data"
    }
   ],
   "source": [
    "x = np.linspace(0, 1)\n",
    "plt.plot(x, distance2vote(x))\n",
    "plt.xlabel('Расстояние до соседа')\n",
    "plt.ylabel('Вес голоса соседа')\n",
    "plt.title('Функция взвешивания соседей');"
   ]
  },
  {
   "cell_type": "code",
   "execution_count": 8,
   "metadata": {},
   "outputs": [],
   "source": [
    "words, vectors, synset_ids = [], [], []\n",
    "for synset in wn.synsets:\n",
    "    if synset.part_of_speech != 'V':\n",
    "        continue\n",
    "    for sense in synset.sense:\n",
    "        words.append(sense.name)\n",
    "        vectors.append(vectorize(sense.name))\n",
    "        synset_ids.append(synset.id)\n",
    "vectors = np.stack(vectors)\n",
    "tree = KDTree(vectors)"
   ]
  },
  {
   "cell_type": "code",
   "execution_count": 9,
   "metadata": {},
   "outputs": [
    {
     "name": "stdout",
     "output_type": "stream",
     "text": [
      "БАРАХТАТЬСЯ ['ДВИЖЕНИЕ, ПЕРЕМЕЩЕНИЕ', 'ПЛЕСКАТЬСЯ В ВОДЕ']\n",
      "ГОГОТАТЬ ['СМЕЯТЬСЯ (ИЗДАВАТЬ СМЕХ)', 'РАЗРАЗИТЬСЯ (БУРНО ВЫРАЗИТЬ)']\n",
      "ГУКАТЬ ['ПРОИЗНЕСТИ, ВЫГОВОРИТЬ, ПРОГОВОРИТЬ']\n",
      "ЮРКАТЬ ['СПРЯТАТЬСЯ В УКРЫТИЕ']\n",
      "ТАРАХТЕТЬ ['ПРОИЗНЕСТИ, ВЫГОВОРИТЬ, ПРОГОВОРИТЬ', 'БОЛТАТЬ, ЧЕСАТЬ ЯЗЫКОМ']\n",
      "ШМЫГАТЬ ['ДВИЖЕНИЕ, ПЕРЕМЕЩЕНИЕ']\n",
      "ШМЫГАТЬ ['МЕЛЬКАТЬ ПЕРЕД ГЛАЗАМИ', 'ПРОЙТИ МИМО']\n",
      "ПОНУКАТЬ ['СКЛОНИТЬ, ПОБУДИТЬ']\n",
      "ХНЫКАТЬ ['ЖАЛОВАТЬСЯ (ВЫСКАЗЫВАТЬ НЕУДОВОЛЬСТВИЕ)', 'НАДОЕСТЬ']\n",
      "ПОВИЗГИВАТЬ ['ИЗДАТЬ ЗВУК']\n",
      "ГАВКАТЬ ['ИЗДАТЬ ЗВУК']\n",
      "ФЫРКАТЬ ['ПРОИЗНЕСТИ, ВЫГОВОРИТЬ, ПРОГОВОРИТЬ', 'ВОРЧАТЬ (БОРМОТАТЬ)']\n",
      "ФЫРЧАТЬ ['ПРОИЗНЕСТИ, ВЫГОВОРИТЬ, ПРОГОВОРИТЬ', 'ВОРЧАТЬ (БОРМОТАТЬ)']\n",
      "УРЧАТЬ ['ИЗДАТЬ ЗВУК']\n",
      "НАУСЬКИВАТЬ ['НАПАСТЬ, СОВЕРШИТЬ НАПАДЕНИЕ', 'ПРЕСЛЕДОВАТЬ, ГНАТЬСЯ']\n",
      "НАУСЬКИВАТЬ ['ПОДСТРЕКАТЬ, ПРОВОЦИРОВАТЬ', 'ПОРТИТЬ ОТНОШЕНИЯ']\n",
      "СВИХИВАТЬСЯ ['ЗАБОЛЕТЬ БОЛЕЗНЬЮ']\n",
      "ДОКРИКИВАТЬСЯ ['ДОЗВАТЬСЯ']\n",
      "ДОКРИКИВАТЬСЯ ['ДОВЕСТИ СЕБЯ', 'НАВРЕДИТЬ СЕБЕ']\n",
      "ЖАЛОБНО ВЫТЬ ['ВЫТЬ', 'ВИЗЖАТЬ']\n",
      "МЕТАТЬСЯ КАК УГОРЕЛЫЙ ['БЕЖАТЬ (ДВИГАТЬСЯ НА НОГАХ)']\n",
      "ЗАТЮКАТЬ ['ПРИДРАТЬСЯ', 'МУЧИТЬ']\n",
      "НАУСЬКАТЬ ['ПОДСТРЕКАТЬ, ПРОВОЦИРОВАТЬ', 'ПОРТИТЬ ОТНОШЕНИЯ']\n",
      "НАУСЬКАТЬ ['НАПАСТЬ, СОВЕРШИТЬ НАПАДЕНИЕ', 'ПРЕСЛЕДОВАТЬ, ГНАТЬСЯ']\n",
      "ВЗБРЫКИВАТЬ ['СОПРОТИВЛЯТЬСЯ', 'УПОРСТВОВАТЬ']\n",
      "ПРИКРИКИВАТЬ ['КРИЧАТЬ, ГОВОРИТЬ ГРОМКО']\n",
      "НАКРИКИВАТЬ ['КРИЧАТЬ, ГОВОРИТЬ ГРОМКО', 'ВЫГОВАРИВАТЬ, ДЕЛАТЬ ВЫГОВОР']\n",
      "БРЫКАТЬСЯ ['СОПРОТИВЛЯТЬСЯ', 'УПОРСТВОВАТЬ']\n",
      "НОСИТЬСЯ КАК КУРИЦА С ЯЙЦОМ ['УВЛЕЧЬСЯ (СИЛЬНО ЗАИНТЕРЕСОВАТЬСЯ)']\n",
      "ИКАТЬ ['ИЗДАТЬ ЗВУК']\n",
      "ПЕРЕКРИКИВАТЬ ['КРИЧАТЬ, ИЗДАВАТЬ КРИК', 'ПЕРЕКРЫТЬ ЗВУК']\n",
      "ЗАХИХИКАТЬ ['СМЕЯТЬСЯ (ИЗДАВАТЬ СМЕХ)']\n",
      "ПРОГОГОТАТЬ ['СМЕЯТЬСЯ (ИЗДАВАТЬ СМЕХ)', 'РАЗРАЗИТЬСЯ (БУРНО ВЫРАЗИТЬ)']\n",
      "ШУШУКАТЬ ['ПРОИЗНЕСТИ, ВЫГОВОРИТЬ, ПРОГОВОРИТЬ']\n",
      "ЗАТОПАТЬ ['УДАРИТЬ, НАНЕСТИ УДАР']\n",
      "ЗАТОПАТЬ ['ДВИГАТЬСЯ НА НОГАХ']\n",
      "ПОДВЫВАТЬ ['ИЗДАТЬ ЗВУК']\n",
      "ДРЫГАТЬ ['ШЕВЕЛИТЬ ЧАСТЬЮ ТЕЛА']\n",
      "КУВЫРКАТЬСЯ ['ПЕРЕВЕРНУТЬСЯ (ПОВЕРНУТЬСЯ)']\n",
      "КУВЫРКАТЬСЯ ['ПЕРЕВАЛИТЬСЯ (ПЕРЕВЕРНУТЬСЯ)', 'ПЕРЕВОРОТ ЧЕРЕЗ ГОЛОВУ']\n",
      "ОКРИКИВАТЬ ['ОКЛИКНУТЬ ПО ИМЕНИ']\n",
      "ВИЗЖАТЬ ['ИЗДАТЬ ЗВУК']\n",
      "ЗАЛЕПЕТАТЬ ['ПРОИЗНЕСТИ, ВЫГОВОРИТЬ, ПРОГОВОРИТЬ']\n",
      "ОЧУХИВАТЬСЯ ['ПРИЙТИ В ЧУВСТВО']\n",
      "ПОСКУЛИВАТЬ ['ВЫТЬ', 'ВИЗЖАТЬ']\n",
      "ХИХИКАТЬ ['СМЕЯТЬСЯ (ИЗДАВАТЬ СМЕХ)']\n",
      "БУЛТЫХАТЬСЯ ['ДВИЖЕНИЕ, ПЕРЕМЕЩЕНИЕ', 'ПЛЕСКАТЬСЯ В ВОДЕ']\n",
      "ЩЕБЕТАТЬ ['ПЕНИЕ ПТИЦЫ']\n",
      "ВЗВИЗГИВАТЬ ['ИЗДАТЬ ЗВУК']\n",
      "ВСПУГИВАТЬ ['ОТОГНАТЬ (ПРОГОНЯЯ ОТСТРАНИТЬ)', 'СОГНАТЬ С МЕСТА']\n",
      "БЛЕЯТЬ ['ИЗДАТЬ ЗВУК']\n",
      "ЧИРКАТЬ ['ПРОВЕСТИ ПО ПОВЕРХНОСТИ']\n",
      "ЗАХЛОПАТЬ ГЛАЗАМИ ['ШЕВЕЛИТЬ ЧАСТЬЮ ТЕЛА']\n",
      "СТРЕКОТАТЬ ['ПРОИЗНЕСТИ, ВЫГОВОРИТЬ, ПРОГОВОРИТЬ', 'БОЛТАТЬ, ЧЕСАТЬ ЯЗЫКОМ']\n",
      "СТРЕКОТАТЬ ['ИЗДАТЬ ЗВУК']\n",
      "ПОКРИКИВАТЬ ['ПРОИЗНЕСТИ, ВЫГОВОРИТЬ, ПРОГОВОРИТЬ']\n",
      "ПОКРИКИВАТЬ ['ИЗДАТЬ ЗВУК']\n",
      "ТОПАТЬ ['УДАРИТЬ, НАНЕСТИ УДАР']\n",
      "ЦАПАТЬ ['ХВАТАТЬ, СХВАТИТЬ']\n",
      "ПЕРЕМАХИВАТЬ ['ПРЫГАТЬ, ДЕЛАТЬ ПРЫЖОК', 'ПЕРЕСЕЧЬ ПРИ ДВИЖЕНИИ']\n",
      "ШУШУКАТЬСЯ ['РАЗГОВОР, БЕСЕДА', 'ШЕПТАТЬ']\n",
      "РОКОТАТЬ ['ИЗДАТЬ ЗВУК']\n",
      "БАБАХАТЬ ['БРОСИТЬ (ПЕРЕМЕСТИТЬ)', 'ХРЯСТНУТЬ (СИЛЬНО УДАРИТЬ)']\n",
      "БАБАХАТЬ ['ИЗДАТЬ ЗВУК', 'УДАРИТЬ (РАЗДАТЬСЯ О РЕЗКОМ ЗВУКЕ)']\n",
      "ЗАВЫВАТЬ ['ИЗДАТЬ ЗВУК']\n",
      "ОТБРЫКИВАТЬСЯ ['ИЗБАВИТЬСЯ', 'УКЛОНИТЬСЯ (ОТКАЗАТЬСЯ)']\n",
      "ПРЫСКАТЬ ['БЕЖАТЬ (ДВИГАТЬСЯ НА НОГАХ)', 'РАССЕЯТЬСЯ В РАЗНЫЕ СТОРОНЫ']\n",
      "ПРЫСКАТЬ ['БРЫЗГАТЬ, РАЗБРАСЫВАТЬ БРЫЗГИ']\n",
      "ВСКРИКИВАТЬ ['КРИЧАТЬ, ИЗДАВАТЬ КРИК']\n",
      "ПОНЫРЯТЬ ['ПОГРУЗИТЬСЯ В ЖИДКОСТЬ']\n",
      "ШМЯКАТЬСЯ ['ПАДАТЬ (ДВИГАТЬСЯ ВНИЗ)']\n",
      "ЗАВИЗЖАТЬ ['ИЗДАТЬ ЗВУК']\n",
      "ЗАТОПАТЬ  НОГАМИ ['УДАРИТЬ, НАНЕСТИ УДАР']\n",
      "ЗАЛАЯТЬ ['ИЗДАТЬ ЗВУК']\n",
      "БАХАТЬСЯ ['ПАДАТЬ (ДВИГАТЬСЯ ВНИЗ)']\n",
      "ХЛОПАТЬ ГЛАЗАМИ ['ШЕВЕЛИТЬ ЧАСТЬЮ ТЕЛА']\n",
      "ОТМЯКАТЬ ['РАЗМЯГЧИТЬСЯ (СТАТЬ МЯГКИМ, МЯГЧЕ)']\n",
      "ОТМЯКАТЬ ['ИЗМЕНЕНИЕ СОСТОЯНИЯ']\n",
      "ЧИРИКАТЬ ['ПЕНИЕ ПТИЦЫ']\n",
      "ПОКУВЫРКАТЬСЯ ['ПЕРЕВАЛИТЬСЯ (ПЕРЕВЕРНУТЬСЯ)', 'ПЕРЕВОРОТ ЧЕРЕЗ ГОЛОВУ']\n",
      "БУРЧАТЬ ['БОРМОТАТЬ']\n",
      "БУРЧАТЬ ['ИЗДАТЬ ЗВУК']\n",
      "ВОЗИТЬСЯ ['ЗАБОТИТЬСЯ, ОКРУЖИТЬ ЗАБОТОЙ', 'МЕДЛИТЬ']\n",
      "ВОЗИТЬСЯ ['ДВИЖЕНИЕ, ПЕРЕМЕЩЕНИЕ']\n",
      "ЗАПИХИВАТЬ ['ВВЕСТИ ВНУТРЬ']\n",
      "ИСТОШНО КРИЧАТЬ ['КРИЧАТЬ, ИЗДАВАТЬ КРИК']\n",
      "СПИХИВАТЬ ['СБРОСИТЬ ВНИЗ', 'ПОДВИНУТЬ, СДВИНУТЬ']\n",
      "ИЗЖАРИТЬСЯ ['ПРИГОТОВЛЕНИЕ ПИЩИ', 'НАГРЕТЬСЯ']\n",
      "ХАРКАТЬ ['ВЫПЛЮНУТЬ']\n",
      "ЗАЛИВАТЬСЯ ['ПОКРЫТЬ ПОВЕРХНОСТЬ', 'ЛИТЬ ЖИДКОСТЬ']\n",
      "ЗАЛИВАТЬСЯ ['ИЗДАТЬ ЗВУК', 'ЗАПЕТЬ ПЕСНЮ']\n",
      "ЗАЛИВАТЬСЯ ['ВЛИТЬСЯ ВНУТРЬ']\n",
      "ЗАЛИВАТЬСЯ ['ПАЧКАТЬСЯ, СТАНОВИТЬСЯ ГРЯЗНЫМ']\n",
      "ЗАЛИВАТЬСЯ ['ПОКРЫТЬСЯ НА ПОВЕРХНОСТИ']\n",
      "ЩИПАТЬ ПЕРЬЯ ['ВЫЩИПАТЬ (ВЫРВАТЬ)']\n",
      "ВИЛЯТЬ ['ПРОЛЕГАТЬ, ПРОХОДИТЬ', 'ПРОТЕКАТЬ (ПРОТЯНУТЬСЯ)']\n",
      "ВИЛЯТЬ ['ПОВЕРНУТЬ ПРИ ДВИЖЕНИИ']\n",
      "ВИЛЯТЬ ['ХИТРОСТЬ (ПОСТУПОК)', 'УКЛОНИТЬСЯ (ОТКАЗАТЬСЯ)']\n",
      "ВИЛЯТЬ ['КАЧАТЬ (КОЛЕБАТЬ)']\n",
      "ВЫПИХИВАТЬ ['УДАЛИТЬ НАРУЖУ', 'ВЫБРОСИТЬ (УДАЛИТЬ)']\n"
     ]
    }
   ],
   "source": [
    "votes = Counter()\n",
    "dists, ids = tree.query(vectorize('кудахтать').reshape(1, -1), k=100)\n",
    "for idx, distance in zip(ids[0], dists[0]):\n",
    "    for hyper in wn[synset_ids[idx]].hypernyms:\n",
    "        votes[hyper.id] += distance2vote(distance)\n",
    "    print(words[idx], [t.title for t in wn[synset_ids[idx]].hypernyms])"
   ]
  },
  {
   "cell_type": "code",
   "execution_count": 10,
   "metadata": {},
   "outputs": [
    {
     "name": "stdout",
     "output_type": "stream",
     "text": [
      "0.6925543543920146 ИЗДАТЬ ЗВУК\n",
      "0.4306341411813687 ПРОИЗНЕСТИ, ВЫГОВОРИТЬ, ПРОГОВОРИТЬ\n",
      "0.29578542267095376 ДВИЖЕНИЕ, ПЕРЕМЕЩЕНИЕ\n",
      "0.21784698084743057 СМЕЯТЬСЯ (ИЗДАВАТЬ СМЕХ)\n",
      "0.19409141918335493 ПЛЕСКАТЬСЯ В ВОДЕ\n",
      "0.1325509436427577 РАЗРАЗИТЬСЯ (БУРНО ВЫРАЗИТЬ)\n",
      "0.11629879019881803 БОЛТАТЬ, ЧЕСАТЬ ЯЗЫКОМ\n",
      "0.11420901282482374 УДАРИТЬ, НАНЕСТИ УДАР\n",
      "0.11343697413233847 ШЕВЕЛИТЬ ЧАСТЬЮ ТЕЛА\n",
      "0.11267866978103516 КРИЧАТЬ, ИЗДАВАТЬ КРИК\n"
     ]
    }
   ],
   "source": [
    "for sid, score in votes.most_common(10):\n",
    "    print(score,  wn[sid].title)"
   ]
  },
  {
   "cell_type": "markdown",
   "metadata": {},
   "source": [
    "# Найди лишнее \n",
    "ДИВАН, ШКАФ, ЛАМПА, СТОЛ"
   ]
  },
  {
   "cell_type": "code",
   "execution_count": 121,
   "metadata": {},
   "outputs": [],
   "source": [
    "import math\n",
    "\n",
    "\n",
    "def get_all_hypernyms(wn, word, max_level=100):\n",
    "    \"\"\" Return dict of all hypernyms of a word and their distances \"\"\"\n",
    "    front = [sense.synset for sense in wn.get_senses(word)]\n",
    "    levels = {}\n",
    "    for level in range(max_level):\n",
    "        if not front:\n",
    "            break\n",
    "        new_front = []\n",
    "        for synset in front:\n",
    "            if synset.id not in levels:\n",
    "                levels[synset.id] = level\n",
    "                new_front.extend(synset.hypernyms)\n",
    "        front = new_front\n",
    "    return levels\n",
    "\n",
    "def get_closest_common(levels1, levels2):\n",
    "    \"\"\" Find the closest common hypernym and sum of distances to it\"\"\"\n",
    "    result = None\n",
    "    result_distance = math.inf\n",
    "    for id, distance in levels1.items():\n",
    "        if id in levels2:\n",
    "            total = distance + levels2[id]\n",
    "            if total < result_distance:\n",
    "                result_distance = total\n",
    "                result = id\n",
    "    return result, result_distance"
   ]
  },
  {
   "cell_type": "code",
   "execution_count": 134,
   "metadata": {},
   "outputs": [
    {
     "name": "stdout",
     "output_type": "stream",
     "text": [
      "\t\t ДИВАН\tШКАФ\tЛАМПА\tСТОЛ\n",
      "ДИВАН\t0\t\t3\t\t10\t\t3\t\t\n",
      "ШКАФ\t3\t\t0\t\t5\t\t2\t\t\n",
      "ЛАМПА\t10\t\t5\t\t0\t\t7\t\t\n",
      "СТОЛ\t3\t\t2\t\t7\t\t0\t\t\n"
     ]
    }
   ],
   "source": [
    "words = ['ДИВАН', 'ШКАФ', 'ЛАМПА', 'СТОЛ']\n",
    "print('\\t\\t', '\\t'.join(words))\n",
    "for w1 in words:\n",
    "    print(w1, end='\\t')\n",
    "    for w2 in words:\n",
    "        n, d = get_closest_common(get_hypernyms(wn, w1), get_hypernyms(wn, w2))\n",
    "        print(d, end='\\t\\t')\n",
    "    print()"
   ]
  },
  {
   "cell_type": "code",
   "execution_count": 130,
   "metadata": {},
   "outputs": [
    {
     "name": "stdout",
     "output_type": "stream",
     "text": [
      "5 106555-N ТЕХНИЧЕСКОЕ УСТРОЙСТВО\n"
     ]
    }
   ],
   "source": [
    "name, distance = get_closest_common(get_hypernyms(wn, 'лампа'), get_hypernyms(wn, 'шкаф'))\n",
    "print(distance, name, wn[name].title)"
   ]
  },
  {
   "cell_type": "code",
   "execution_count": 102,
   "metadata": {},
   "outputs": [
    {
     "name": "stdout",
     "output_type": "stream",
     "text": [
      "128561-N 0 Synset(id=\"128561-N\", title=\"ОСВЕТИТЕЛЬНЫЙ ПРИБОР\")\n",
      "8785-N 0 Synset(id=\"8785-N\", title=\"ЭЛЕКТРИЧЕСКАЯ ЛАМПА\")\n",
      "4222-N 1 Synset(id=\"4222-N\", title=\"СВЕТОТЕХНИЧЕСКОЕ ОБОРУДОВАНИЕ\")\n",
      "107646-N 1 Synset(id=\"107646-N\", title=\"ИСТОЧНИК ОСВЕЩЕНИЯ\")\n",
      "2070-N 2 Synset(id=\"2070-N\", title=\"ЭЛЕКТРОТЕХНИЧЕСКОЕ ОБОРУДОВАНИЕ\")\n",
      "106488-N 2 Synset(id=\"106488-N\", title=\"ИСХОДНЫЙ ПУНКТ\")\n",
      "149201-N 3 Synset(id=\"149201-N\", title=\"ИНЖЕНЕРНОЕ ОБОРУДОВАНИЕ\")\n",
      "106613-N 3 Synset(id=\"106613-N\", title=\"РОЛЬ, ПОЛОЖЕНИЕ, МЕСТО\")\n",
      "1320-N 4 Synset(id=\"1320-N\", title=\"ОБОРУДОВАНИЕ\")\n",
      "106555-N 4 Synset(id=\"106555-N\", title=\"ТЕХНИЧЕСКОЕ УСТРОЙСТВО\")\n",
      "106553-N 5 Synset(id=\"106553-N\", title=\"ПРИСПОСОБЛЕНИЕ, ИНСТРУМЕНТ\")\n",
      "106554-N 6 Synset(id=\"106554-N\", title=\"ПРЕДМЕТ, ВЕЩЬ\")\n",
      "147133-N 7 Synset(id=\"147133-N\", title=\"ФИЗИЧЕСКИЙ ОБЪЕКТ\")\n",
      "147134-N 8 Synset(id=\"147134-N\", title=\"ФИЗИЧЕСКАЯ СУЩНОСТЬ\")\n",
      "153782-N 9 Synset(id=\"153782-N\", title=\"ПОСТОЯННАЯ СУЩНОСТЬ\")\n"
     ]
    }
   ],
   "source": [
    "for k, v in get_hypernyms(wn, 'лампа').items():\n",
    "    print(k, v, wn[k])"
   ]
  },
  {
   "cell_type": "code",
   "execution_count": 131,
   "metadata": {},
   "outputs": [
    {
     "data": {
      "text/plain": [
       "[Synset(id=\"1320-N\", title=\"ОБОРУДОВАНИЕ\"),\n",
       " Synset(id=\"106555-N\", title=\"ТЕХНИЧЕСКОЕ УСТРОЙСТВО\")]"
      ]
     },
     "execution_count": 131,
     "metadata": {},
     "output_type": "execute_result"
    }
   ],
   "source": [
    "wn[\"149201-N\"].hypernyms"
   ]
  },
  {
   "cell_type": "code",
   "execution_count": 132,
   "metadata": {},
   "outputs": [
    {
     "name": "stdout",
     "output_type": "stream",
     "text": [
      "107294-N 0 Synset(id=\"107294-N\", title=\"СТОЛ\")\n",
      "146834-N 0 Synset(id=\"146834-N\", title=\"СТОЛ ДЛЯ ЕДЫ\")\n",
      "1253-N 1 Synset(id=\"1253-N\", title=\"МЕБЕЛЬ\")\n",
      "106554-N 1 Synset(id=\"106554-N\", title=\"ПРЕДМЕТ, ВЕЩЬ\")\n",
      "9059-N 2 Synset(id=\"9059-N\", title=\"ПРОДУКЦИЯ ДЕРЕВООБРАБОТКИ\")\n",
      "130019-N 2 Synset(id=\"130019-N\", title=\"НЕПРОДОВОЛЬСТВЕННЫЕ ТОВАРЫ\")\n",
      "146828-N 2 Synset(id=\"146828-N\", title=\"ПРЕДМЕТ ИНТЕРЬЕРА\")\n",
      "147133-N 2 Synset(id=\"147133-N\", title=\"ФИЗИЧЕСКИЙ ОБЪЕКТ\")\n",
      "106507-N 3 Synset(id=\"106507-N\", title=\"ПРОДУКТ ПРОИЗВОДСТВА\")\n",
      "56-N 3 Synset(id=\"56-N\", title=\"ПРОМЫШЛЕННАЯ ПРОДУКЦИЯ\")\n",
      "562-N 3 Synset(id=\"562-N\", title=\"ТОВАР\")\n",
      "1252-N 3 Synset(id=\"1252-N\", title=\"ПОТРЕБИТЕЛЬСКИЕ ТОВАРЫ\")\n",
      "147134-N 3 Synset(id=\"147134-N\", title=\"ФИЗИЧЕСКАЯ СУЩНОСТЬ\")\n",
      "106505-N 4 Synset(id=\"106505-N\", title=\"ПРОДУКТ ТРУДА\")\n",
      "153782-N 4 Synset(id=\"153782-N\", title=\"ПОСТОЯННАЯ СУЩНОСТЬ\")\n"
     ]
    }
   ],
   "source": [
    "for k, v in get_hypernyms(wn, 'стол').items():\n",
    "    print(k, v, wn[k])"
   ]
  },
  {
   "cell_type": "code",
   "execution_count": 59,
   "metadata": {},
   "outputs": [
    {
     "data": {
      "text/plain": [
       "[(<wiki_ru_wordnet.synset.Synset at 0x5dae7f2888>, 1, 1)]"
      ]
     },
     "execution_count": 59,
     "metadata": {},
     "output_type": "execute_result"
    }
   ],
   "source": [
    "synset1 = wikiwordnet.get_synsets('диван')[0]\n",
    "synset2 = wikiwordnet.get_synsets('стол')[0]\n",
    "wikiwordnet.get_lowest_common_hypernyms(synset1, synset2)"
   ]
  },
  {
   "cell_type": "code",
   "execution_count": 60,
   "metadata": {},
   "outputs": [
    {
     "ename": "NameError",
     "evalue": "name 'ДИВАН' is not defined",
     "output_type": "error",
     "traceback": [
      "\u001b[1;31m---------------------------------------------------------------------------\u001b[0m",
      "\u001b[1;31mNameError\u001b[0m                                 Traceback (most recent call last)",
      "\u001b[1;32m<ipython-input-60-0037e7edf62e>\u001b[0m in \u001b[0;36m<module>\u001b[1;34m\u001b[0m\n\u001b[1;32m----> 1\u001b[1;33m \u001b[0mДИВАН\u001b[0m\u001b[1;33m,\u001b[0m \u001b[0mШКАФ\u001b[0m\u001b[1;33m,\u001b[0m \u001b[0mЛАМПА\u001b[0m\u001b[1;33m,\u001b[0m \u001b[0mСТОЛ\u001b[0m\u001b[1;33m\u001b[0m\u001b[1;33m\u001b[0m\u001b[0m\n\u001b[0m",
      "\u001b[1;31mNameError\u001b[0m: name 'ДИВАН' is not defined"
     ]
    }
   ],
   "source": []
  },
  {
   "cell_type": "code",
   "execution_count": null,
   "metadata": {},
   "outputs": [],
   "source": []
  }
 ],
 "metadata": {
  "kernelspec": {
   "display_name": "Python 3",
   "language": "python",
   "name": "python3"
  },
  "language_info": {
   "codemirror_mode": {
    "name": "ipython",
    "version": 3
   },
   "file_extension": ".py",
   "mimetype": "text/x-python",
   "name": "python",
   "nbconvert_exporter": "python",
   "pygments_lexer": "ipython3",
   "version": "3.7.6"
  }
 },
 "nbformat": 4,
 "nbformat_minor": 4
}

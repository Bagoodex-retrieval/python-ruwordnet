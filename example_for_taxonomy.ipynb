{
 "cells": [
  {
   "cell_type": "code",
   "execution_count": null,
   "metadata": {},
   "outputs": [],
   "source": [
    "!pip install numpy scikit-learn compress-fasttext xmltodict matplotlib"
   ]
  },
  {
   "cell_type": "code",
   "execution_count": 1,
   "metadata": {},
   "outputs": [],
   "source": [
    "from ruwordnet import RuWordNet\n",
    "wn = RuWordNet()"
   ]
  },
  {
   "cell_type": "code",
   "execution_count": 2,
   "metadata": {},
   "outputs": [
    {
     "data": {
      "text/plain": [
       "(49713, 130417)"
      ]
     },
     "execution_count": 2,
     "metadata": {},
     "output_type": "execute_result"
    }
   ],
   "source": [
    "len(wn.synsets), len(wn.senses)"
   ]
  },
  {
   "cell_type": "markdown",
   "metadata": {},
   "source": [
    "# Using the thesaurus"
   ]
  },
  {
   "cell_type": "code",
   "execution_count": 3,
   "metadata": {},
   "outputs": [
    {
     "name": "stdout",
     "output_type": "stream",
     "text": [
      "Synset(id=\"126228-N\", title=\"СРЕДНЕВЕКОВЫЙ ЗАМОК\")\n",
      "Synset(id=\"114707-N\", title=\"ЗАМОК ДЛЯ ЗАПИРАНИЯ\")\n"
     ]
    }
   ],
   "source": [
    "for sense in wn.get_senses('замок'):\n",
    "    print(sense.synset)"
   ]
  },
  {
   "cell_type": "code",
   "execution_count": 4,
   "metadata": {},
   "outputs": [
    {
     "data": {
      "text/plain": [
       "[Synset(id=\"113935-N\", title=\"ДВОРЕЦ\"),\n",
       " Synset(id=\"124420-N\", title=\"КРЕПОСТЬ (ОБОРОНИТЕЛЬНОЕ СООРУЖЕНИЕ)\")]"
      ]
     },
     "execution_count": 4,
     "metadata": {},
     "output_type": "execute_result"
    }
   ],
   "source": [
    "wn.get_senses('замок')[0].synset.hypernyms"
   ]
  },
  {
   "cell_type": "code",
   "execution_count": 5,
   "metadata": {},
   "outputs": [
    {
     "data": {
      "text/plain": [
       "[Synset(id=\"348-N\", title=\"ОВОЩИ\"),\n",
       " Synset(id=\"4789-N\", title=\"ТРАВЯНИСТОЕ РАСТЕНИЕ\"),\n",
       " Synset(id=\"6878-N\", title=\"ОВОЩНАЯ КУЛЬТУРА\")]"
      ]
     },
     "execution_count": 5,
     "metadata": {},
     "output_type": "execute_result"
    }
   ],
   "source": [
    "wn.get_senses('спаржа')[0].synset.hypernyms"
   ]
  },
  {
   "cell_type": "code",
   "execution_count": 6,
   "metadata": {},
   "outputs": [
    {
     "data": {
      "text/plain": [
       "[Sense(id=\"153966-N-124560\", name=\"АВОКАДО\"),\n",
       " Sense(id=\"144242-N-124560\", name=\"АВОКАДО\"),\n",
       " Sense(id=\"144305-N-124560\", name=\"АВОКАДО\")]"
      ]
     },
     "execution_count": 6,
     "metadata": {},
     "output_type": "execute_result"
    }
   ],
   "source": [
    "wn.get_senses('авокадо')"
   ]
  },
  {
   "cell_type": "code",
   "execution_count": 7,
   "metadata": {},
   "outputs": [
    {
     "data": {
      "text/plain": [
       "Synset(id=\"348-N\", title=\"ОВОЩИ\")"
      ]
     },
     "execution_count": 7,
     "metadata": {},
     "output_type": "execute_result"
    }
   ],
   "source": [
    "veg = wn.get_senses('спаржа')[0].synset.hypernyms[0]\n",
    "veg"
   ]
  },
  {
   "cell_type": "code",
   "execution_count": 8,
   "metadata": {},
   "outputs": [
    {
     "data": {
      "text/plain": [
       "[Synset(id=\"144207-N\", title=\"СТРУЧКОВЫЙ ПЕРЕЦ (ПЛОД)\"),\n",
       " Synset(id=\"144216-N\", title=\"КАБАЧОК (ПЛОД)\"),\n",
       " Synset(id=\"144181-N\", title=\"БАКЛАЖАН (ПЛОД)\"),\n",
       " Synset(id=\"144184-N\", title=\"ОГУРЕЦ (ПЛОД)\"),\n",
       " Synset(id=\"144191-N\", title=\"ПОМИДОР (ПЛОД)\"),\n",
       " Synset(id=\"108482-N\", title=\"СПАРЖА\"),\n",
       " Synset(id=\"118660-N\", title=\"ЗЕЛЕНЫЙ ГОРОШЕК\"),\n",
       " Synset(id=\"144194-N\", title=\"ТЫКВА (ПЛОД)\"),\n",
       " Synset(id=\"148896-N\", title=\"КОРНЕПЛОДНЫЕ ОВОЩИ\"),\n",
       " Synset(id=\"107993-N\", title=\"АРТИШОК\"),\n",
       " Synset(id=\"144232-N\", title=\"КОЧАН КАПУСТЫ\"),\n",
       " Synset(id=\"144182-N\", title=\"ЛУК (РАСТЕНИЕ)\"),\n",
       " Synset(id=\"144183-N\", title=\"ЧЕСНОК\"),\n",
       " Synset(id=\"153883-N\", title=\"ЗЕЛЕНЬ (ОВОЩИ)\")]"
      ]
     },
     "execution_count": 8,
     "metadata": {},
     "output_type": "execute_result"
    }
   ],
   "source": [
    "veg.hyponyms"
   ]
  },
  {
   "cell_type": "code",
   "execution_count": 9,
   "metadata": {},
   "outputs": [
    {
     "data": {
      "text/plain": [
       "[Sense(id=\"110018-N-141998\", name=\"МАТРЕШКА\")]"
      ]
     },
     "execution_count": 9,
     "metadata": {},
     "output_type": "execute_result"
    }
   ],
   "source": [
    "wn.get_senses('продукт')[0].synset.hyponyms[0].hyponyms[1].hyponyms[0].senses"
   ]
  },
  {
   "cell_type": "markdown",
   "metadata": {},
   "source": [
    "## More relations"
   ]
  },
  {
   "cell_type": "markdown",
   "metadata": {},
   "source": [
    "Домен - атрибут"
   ]
  },
  {
   "cell_type": "code",
   "execution_count": 10,
   "metadata": {},
   "outputs": [
    {
     "name": "stdout",
     "output_type": "stream",
     "text": [
      "[Synset(id=\"109383-N\", title=\"ИГРА (РАЗВЛЕЧЕНИЕ)\"), Synset(id=\"1622-N\", title=\"СПОРТ\")]\n"
     ]
    }
   ],
   "source": [
    "print(wn['мяч'][0].synset.domains)"
   ]
  },
  {
   "cell_type": "code",
   "execution_count": 11,
   "metadata": {},
   "outputs": [
    {
     "name": "stdout",
     "output_type": "stream",
     "text": [
      "[Synset(id=\"152055-N\", title=\"СКИ-КРОСС\"), Synset(id=\"114968-N\", title=\"ГИМНАСТИЧЕСКОЕ БРЕВНО\"), Synset(id=\"148281-V\", title=\"ОТЖИМАНИЕ (УПРАЖНЕНИЕ)\"), Synset(id=\"122191-N\", title=\"ШТРАФНОЙ УДАР\"), Synset(id=\"117057-N\", title=\"РОЛИКОВЫЕ КОНЬКИ\"), Synset(id=\"112268-A\", title=\"ВЕЛОСИПЕДНЫЕ ГОНКИ\"), Synset(id=\"152069-N\", title=\"ХАФ-ПАЙП (СНОУБОРДИНГ)\"), Synset(id=\"110000-A\", title=\"ШАХМАТНАЯ ЛАДЬЯ\"), Synset(id=\"1627-N\", title=\"СБОРНАЯ КОМАНДА\"), Synset(id=\"135881-A\", title=\"АВИАЦИОННЫЙ СПОРТ\")]\n"
     ]
    }
   ],
   "source": [
    "import random\n",
    "print(random.sample(wn['спорт'][0].synset.domain_items, 10))"
   ]
  },
  {
   "cell_type": "markdown",
   "metadata": {},
   "source": [
    "Часть - целое"
   ]
  },
  {
   "cell_type": "code",
   "execution_count": 12,
   "metadata": {},
   "outputs": [
    {
     "name": "stdout",
     "output_type": "stream",
     "text": [
      "[Synset(id=\"126573-N\", title=\"КУЗОВ АВТОМОБИЛЯ\"), Synset(id=\"2653-N\", title=\"АВТОМОБИЛЬНОЕ ОБОРУДОВАНИЕ\"), Synset(id=\"125151-N\", title=\"БАМПЕР АВТОМОБИЛЯ\"), Synset(id=\"108798-N\", title=\"КАПОТ МАШИНЫ\")]\n"
     ]
    }
   ],
   "source": [
    "print(wn['автомобиль'][0].synset.meronyms)"
   ]
  },
  {
   "cell_type": "code",
   "execution_count": 13,
   "metadata": {},
   "outputs": [
    {
     "name": "stdout",
     "output_type": "stream",
     "text": [
      "[Synset(id=\"3790-N\", title=\"КНИГА (ИЗДАНИЕ)\"), Synset(id=\"5820-N\", title=\"ТЕТРАДЬ\")]\n"
     ]
    }
   ],
   "source": [
    "print(wn['страница'][0].synset.holonyms)"
   ]
  },
  {
   "cell_type": "markdown",
   "metadata": {},
   "source": [
    "Класс-экземпляр"
   ]
  },
  {
   "cell_type": "code",
   "execution_count": 14,
   "metadata": {},
   "outputs": [
    {
     "name": "stdout",
     "output_type": "stream",
     "text": [
      "[Synset(id=\"136791-N\", title=\"РЕКИ РОССИЙСКОЙ ФЕДЕРАЦИИ\")]\n"
     ]
    }
   ],
   "source": [
    "print(wn['москва-река'][0].synset.classes)"
   ]
  },
  {
   "cell_type": "code",
   "execution_count": 15,
   "metadata": {},
   "outputs": [
    {
     "name": "stdout",
     "output_type": "stream",
     "text": [
      "[Synset(id=\"105703-N\", title=\"ПЕТРОПАВЛОВСК-КАМЧАТСКИЙ\"), Synset(id=\"102937-N\", title=\"ТЮМЕНЬ\"), Synset(id=\"102521-N\", title=\"РОСТОВ-НА-ДОНУ\"), Synset(id=\"102587-N\", title=\"САРАТОВ\"), Synset(id=\"100484-N\", title=\"БРЯНСК\"), Synset(id=\"101875-N\", title=\"МАГАДАН\"), Synset(id=\"100355-N\", title=\"АСТРАХАНЬ\"), Synset(id=\"101115-N\", title=\"КАЛИНИНГРАД\"), Synset(id=\"102849-N\", title=\"ТВЕРЬ\"), Synset(id=\"102962-N\", title=\"УЛЬЯНОВСК\")]\n"
     ]
    }
   ],
   "source": [
    "print(random.sample(wn['областной центр'][0].synset.instances, 10))"
   ]
  },
  {
   "cell_type": "markdown",
   "metadata": {},
   "source": [
    "Предпосылки - выводы"
   ]
  },
  {
   "cell_type": "code",
   "execution_count": 16,
   "metadata": {},
   "outputs": [
    {
     "name": "stdout",
     "output_type": "stream",
     "text": [
      "[Synset(id=\"126151-V\", title=\"ЖЕРТВОПРИНОШЕНИЕ\")]\n"
     ]
    }
   ],
   "source": [
    "print(wn['убить'][0].synset.premises)"
   ]
  },
  {
   "cell_type": "code",
   "execution_count": 17,
   "metadata": {},
   "outputs": [
    {
     "name": "stdout",
     "output_type": "stream",
     "text": [
      "[Synset(id=\"1664-V\", title=\"ВОЕННЫЕ ДЕЙСТВИЯ\")]\n"
     ]
    }
   ],
   "source": [
    "print(wn['завоевать'][0].synset.conclusions)"
   ]
  },
  {
   "cell_type": "markdown",
   "metadata": {},
   "source": [
    "Причины-следствия"
   ]
  },
  {
   "cell_type": "code",
   "execution_count": 18,
   "metadata": {},
   "outputs": [
    {
     "name": "stdout",
     "output_type": "stream",
     "text": [
      "[Synset(id=\"114599-V\", title=\"УТОМИТЬ\")]\n"
     ]
    }
   ],
   "source": [
    "print(wn['устать'][0].synset.causes)"
   ]
  },
  {
   "cell_type": "code",
   "execution_count": 19,
   "metadata": {},
   "outputs": [
    {
     "name": "stdout",
     "output_type": "stream",
     "text": [
      "[Synset(id=\"111612-V\", title=\"УМЕРЕТЬ, УЙТИ ИЗ ЖИЗНИ\")]\n"
     ]
    }
   ],
   "source": [
    "print(wn['убить'][0].synset.effects)"
   ]
  },
  {
   "cell_type": "markdown",
   "metadata": {},
   "source": [
    "Частеречные синонимы"
   ]
  },
  {
   "cell_type": "code",
   "execution_count": 20,
   "metadata": {},
   "outputs": [
    {
     "data": {
      "text/plain": [
       "[Sense(id=\"111386-N-162803\", name=\"УМЕРВЩЛЕНИЕ\"),\n",
       " Sense(id=\"111386-N-686186\", name=\"УБИЕНИЕ\")]"
      ]
     },
     "execution_count": 20,
     "metadata": {},
     "output_type": "execute_result"
    }
   ],
   "source": [
    "[s for ss in wn['убить'][0].synset.pos_synonyms for s in ss.senses]"
   ]
  },
  {
   "cell_type": "markdown",
   "metadata": {},
   "source": [
    "антонимы"
   ]
  },
  {
   "cell_type": "code",
   "execution_count": 21,
   "metadata": {},
   "outputs": [
    {
     "data": {
      "text/plain": [
       "[Synset(id=\"118957-A\", title=\"МЕДЛЕННЫЙ, НЕБЫСТРЫЙ\")]"
      ]
     },
     "execution_count": 21,
     "metadata": {},
     "output_type": "execute_result"
    }
   ],
   "source": [
    "wn['быстрый'][0].synset.antonyms"
   ]
  },
  {
   "cell_type": "markdown",
   "metadata": {},
   "source": [
    "фразы и их составляющие"
   ]
  },
  {
   "cell_type": "code",
   "execution_count": 22,
   "metadata": {},
   "outputs": [
    {
     "data": {
      "text/plain": [
       "[Sense(id=\"102679-N-129996\", name=\"РЕКА БЫСТРАЯ\"),\n",
       " Sense(id=\"111420-N-206562\", name=\"ПРЕДПРИЯТИЕ БЫСТРОГО ПИТАНИЯ\"),\n",
       " Sense(id=\"111420-N-673187\", name=\"КАФЕ БЫСТРОГО ОБСЛУЖИВАНИЯ\"),\n",
       " Sense(id=\"111420-N-673188\", name=\"РЕСТОРАН БЫСТРОГО ОБСЛУЖИВАНИЯ\"),\n",
       " Sense(id=\"8930-N-117128\", name=\"БЫСТРОЕ ПИТАНИЕ\"),\n",
       " Sense(id=\"9241-N-118631\", name=\"БЫСТРЫЕ ШАХМАТЫ\")]"
      ]
     },
     "execution_count": 22,
     "metadata": {},
     "output_type": "execute_result"
    }
   ],
   "source": [
    "wn['быстрый'][0].phrases"
   ]
  },
  {
   "cell_type": "code",
   "execution_count": 23,
   "metadata": {},
   "outputs": [
    {
     "data": {
      "text/plain": [
       "[Sense(id=\"106989-N-153921\", name=\"СПИСОК\")]"
      ]
     },
     "execution_count": 23,
     "metadata": {},
     "output_type": "execute_result"
    }
   ],
   "source": [
    "wn['послужной список'][0].words"
   ]
  },
  {
   "cell_type": "markdown",
   "metadata": {},
   "source": [
    "Однокоренные слова"
   ]
  },
  {
   "cell_type": "code",
   "execution_count": 24,
   "metadata": {},
   "outputs": [
    {
     "data": {
      "text/plain": [
       "[Sense(id=\"109476-A-205236\", name=\"СИНЕВАТЫЙ\"),\n",
       " Sense(id=\"109476-A-689608\", name=\"СИНЕНЬКИЙ\"),\n",
       " Sense(id=\"109476-N-152798\", name=\"СИНЕВА\"),\n",
       " Sense(id=\"109476-N-152826\", name=\"СИНЬ\"),\n",
       " Sense(id=\"110418-N-148452\", name=\"ПОСИНЕНИЕ\"),\n",
       " Sense(id=\"110418-V-148453\", name=\"ПОСИНЕТЬ\"),\n",
       " Sense(id=\"110418-V-152799\", name=\"СИНЕТЬ\"),\n",
       " Sense(id=\"111011-V-152799\", name=\"СИНЕТЬ\"),\n",
       " Sense(id=\"111011-V-183154\", name=\"ЗАСИНЕТЬ\")]"
      ]
     },
     "execution_count": 24,
     "metadata": {},
     "output_type": "execute_result"
    }
   ],
   "source": [
    "wn['синий'][0].derivations"
   ]
  },
  {
   "cell_type": "markdown",
   "metadata": {},
   "source": [
    "# Predicting hypernyms"
   ]
  },
  {
   "cell_type": "code",
   "execution_count": 25,
   "metadata": {},
   "outputs": [],
   "source": [
    "import numpy as np\n",
    "import compress_fasttext\n",
    "\n",
    "from collections import Counter\n",
    "from sklearn.neighbors import KDTree\n",
    "\n",
    "import matplotlib.pyplot as plt\n",
    "%matplotlib inline"
   ]
  },
  {
   "cell_type": "code",
   "execution_count": 26,
   "metadata": {},
   "outputs": [],
   "source": [
    "ft = compress_fasttext.models.CompressedFastTextKeyedVectors.load(\n",
    "    'https://github.com/avidale/compress-fasttext/releases/download/v0.0.1/ft_freqprune_100K_20K_pq_100.bin'\n",
    ")"
   ]
  },
  {
   "cell_type": "code",
   "execution_count": 27,
   "metadata": {},
   "outputs": [],
   "source": [
    "def vectorize(text):\n",
    "    vec = np.mean([ft[word] for word in text.lower().split() if len(word) >= 3], axis=0)\n",
    "    vec /= sum(vec**2) ** 0.5 \n",
    "    return vec\n",
    "\n",
    "def distance2vote(d, a=3, b=5):\n",
    "    sim = np.maximum(0, 1 - d**2/2)\n",
    "    return np.exp(-d**a) * sim **b"
   ]
  },
  {
   "cell_type": "code",
   "execution_count": 28,
   "metadata": {},
   "outputs": [
    {
     "data": {
      "image/png": "[encoded data removed]",
      "text/plain": [
       "<Figure size 432x288 with 1 Axes>"
      ]
     },
     "metadata": {
      "needs_background": "light"
     },
     "output_type": "display_data"
    }
   ],
   "source": [
    "x = np.linspace(0, 1)\n",
    "plt.plot(x, distance2vote(x))\n",
    "plt.xlabel('Расстояние до соседа')\n",
    "plt.ylabel('Вес голоса соседа')\n",
    "plt.title('Функция взвешивания соседей');"
   ]
  },
  {
   "cell_type": "code",
   "execution_count": 32,
   "metadata": {},
   "outputs": [],
   "source": [
    "from tqdm.auto import tqdm, trange"
   ]
  },
  {
   "cell_type": "code",
   "execution_count": null,
   "metadata": {},
   "outputs": [],
   "source": [
    "words, vectors, synset_ids = [], [], []\n",
    "for synset in tqdm(wn.synsets):\n",
    "    if synset.part_of_speech != 'V':\n",
    "        continue\n",
    "    for sense in synset.senses:\n",
    "        words.append(sense.name)\n",
    "        vectors.append(vectorize(sense.name))\n",
    "        synset_ids.append(synset.id)\n",
    "vectors = np.stack(vectors)\n",
    "tree = KDTree(vectors)"
   ]
  },
  {
   "cell_type": "code",
   "execution_count": 9,
   "metadata": {},
   "outputs": [
    {
     "name": "stdout",
     "output_type": "stream",
     "text": [
      "БАРАХТАТЬСЯ ['ДВИЖЕНИЕ, ПЕРЕМЕЩЕНИЕ', 'ПЛЕСКАТЬСЯ В ВОДЕ']\n",
      "ГОГОТАТЬ ['СМЕЯТЬСЯ (ИЗДАВАТЬ СМЕХ)', 'РАЗРАЗИТЬСЯ (БУРНО ВЫРАЗИТЬ)']\n",
      "ГУКАТЬ ['ПРОИЗНЕСТИ, ВЫГОВОРИТЬ, ПРОГОВОРИТЬ']\n",
      "ЮРКАТЬ ['СПРЯТАТЬСЯ В УКРЫТИЕ']\n",
      "ТАРАХТЕТЬ ['ПРОИЗНЕСТИ, ВЫГОВОРИТЬ, ПРОГОВОРИТЬ', 'БОЛТАТЬ, ЧЕСАТЬ ЯЗЫКОМ']\n",
      "ШМЫГАТЬ ['ДВИЖЕНИЕ, ПЕРЕМЕЩЕНИЕ']\n",
      "ШМЫГАТЬ ['МЕЛЬКАТЬ ПЕРЕД ГЛАЗАМИ', 'ПРОЙТИ МИМО']\n",
      "ПОНУКАТЬ ['СКЛОНИТЬ, ПОБУДИТЬ']\n",
      "ХНЫКАТЬ ['ЖАЛОВАТЬСЯ (ВЫСКАЗЫВАТЬ НЕУДОВОЛЬСТВИЕ)', 'НАДОЕСТЬ']\n",
      "ПОВИЗГИВАТЬ ['ИЗДАТЬ ЗВУК']\n",
      "ГАВКАТЬ ['ИЗДАТЬ ЗВУК']\n",
      "ФЫРКАТЬ ['ПРОИЗНЕСТИ, ВЫГОВОРИТЬ, ПРОГОВОРИТЬ', 'ВОРЧАТЬ (БОРМОТАТЬ)']\n",
      "ФЫРЧАТЬ ['ПРОИЗНЕСТИ, ВЫГОВОРИТЬ, ПРОГОВОРИТЬ', 'ВОРЧАТЬ (БОРМОТАТЬ)']\n",
      "УРЧАТЬ ['ИЗДАТЬ ЗВУК']\n",
      "НАУСЬКИВАТЬ ['НАПАСТЬ, СОВЕРШИТЬ НАПАДЕНИЕ', 'ПРЕСЛЕДОВАТЬ, ГНАТЬСЯ']\n",
      "НАУСЬКИВАТЬ ['ПОДСТРЕКАТЬ, ПРОВОЦИРОВАТЬ', 'ПОРТИТЬ ОТНОШЕНИЯ']\n",
      "СВИХИВАТЬСЯ ['ЗАБОЛЕТЬ БОЛЕЗНЬЮ']\n",
      "ДОКРИКИВАТЬСЯ ['ДОЗВАТЬСЯ']\n",
      "ДОКРИКИВАТЬСЯ ['ДОВЕСТИ СЕБЯ', 'НАВРЕДИТЬ СЕБЕ']\n",
      "ЖАЛОБНО ВЫТЬ ['ВЫТЬ', 'ВИЗЖАТЬ']\n",
      "МЕТАТЬСЯ КАК УГОРЕЛЫЙ ['БЕЖАТЬ (ДВИГАТЬСЯ НА НОГАХ)']\n",
      "ЗАТЮКАТЬ ['ПРИДРАТЬСЯ', 'МУЧИТЬ']\n",
      "НАУСЬКАТЬ ['ПОДСТРЕКАТЬ, ПРОВОЦИРОВАТЬ', 'ПОРТИТЬ ОТНОШЕНИЯ']\n",
      "НАУСЬКАТЬ ['НАПАСТЬ, СОВЕРШИТЬ НАПАДЕНИЕ', 'ПРЕСЛЕДОВАТЬ, ГНАТЬСЯ']\n",
      "ВЗБРЫКИВАТЬ ['СОПРОТИВЛЯТЬСЯ', 'УПОРСТВОВАТЬ']\n",
      "ПРИКРИКИВАТЬ ['КРИЧАТЬ, ГОВОРИТЬ ГРОМКО']\n",
      "НАКРИКИВАТЬ ['КРИЧАТЬ, ГОВОРИТЬ ГРОМКО', 'ВЫГОВАРИВАТЬ, ДЕЛАТЬ ВЫГОВОР']\n",
      "БРЫКАТЬСЯ ['СОПРОТИВЛЯТЬСЯ', 'УПОРСТВОВАТЬ']\n",
      "НОСИТЬСЯ КАК КУРИЦА С ЯЙЦОМ ['УВЛЕЧЬСЯ (СИЛЬНО ЗАИНТЕРЕСОВАТЬСЯ)']\n",
      "ИКАТЬ ['ИЗДАТЬ ЗВУК']\n",
      "ПЕРЕКРИКИВАТЬ ['КРИЧАТЬ, ИЗДАВАТЬ КРИК', 'ПЕРЕКРЫТЬ ЗВУК']\n",
      "ЗАХИХИКАТЬ ['СМЕЯТЬСЯ (ИЗДАВАТЬ СМЕХ)']\n",
      "ПРОГОГОТАТЬ ['СМЕЯТЬСЯ (ИЗДАВАТЬ СМЕХ)', 'РАЗРАЗИТЬСЯ (БУРНО ВЫРАЗИТЬ)']\n",
      "ШУШУКАТЬ ['ПРОИЗНЕСТИ, ВЫГОВОРИТЬ, ПРОГОВОРИТЬ']\n",
      "ЗАТОПАТЬ ['УДАРИТЬ, НАНЕСТИ УДАР']\n",
      "ЗАТОПАТЬ ['ДВИГАТЬСЯ НА НОГАХ']\n",
      "ПОДВЫВАТЬ ['ИЗДАТЬ ЗВУК']\n",
      "ДРЫГАТЬ ['ШЕВЕЛИТЬ ЧАСТЬЮ ТЕЛА']\n",
      "КУВЫРКАТЬСЯ ['ПЕРЕВЕРНУТЬСЯ (ПОВЕРНУТЬСЯ)']\n",
      "КУВЫРКАТЬСЯ ['ПЕРЕВАЛИТЬСЯ (ПЕРЕВЕРНУТЬСЯ)', 'ПЕРЕВОРОТ ЧЕРЕЗ ГОЛОВУ']\n",
      "ОКРИКИВАТЬ ['ОКЛИКНУТЬ ПО ИМЕНИ']\n",
      "ВИЗЖАТЬ ['ИЗДАТЬ ЗВУК']\n",
      "ЗАЛЕПЕТАТЬ ['ПРОИЗНЕСТИ, ВЫГОВОРИТЬ, ПРОГОВОРИТЬ']\n",
      "ОЧУХИВАТЬСЯ ['ПРИЙТИ В ЧУВСТВО']\n",
      "ПОСКУЛИВАТЬ ['ВЫТЬ', 'ВИЗЖАТЬ']\n",
      "ХИХИКАТЬ ['СМЕЯТЬСЯ (ИЗДАВАТЬ СМЕХ)']\n",
      "БУЛТЫХАТЬСЯ ['ДВИЖЕНИЕ, ПЕРЕМЕЩЕНИЕ', 'ПЛЕСКАТЬСЯ В ВОДЕ']\n",
      "ЩЕБЕТАТЬ ['ПЕНИЕ ПТИЦЫ']\n",
      "ВЗВИЗГИВАТЬ ['ИЗДАТЬ ЗВУК']\n",
      "ВСПУГИВАТЬ ['ОТОГНАТЬ (ПРОГОНЯЯ ОТСТРАНИТЬ)', 'СОГНАТЬ С МЕСТА']\n",
      "БЛЕЯТЬ ['ИЗДАТЬ ЗВУК']\n",
      "ЧИРКАТЬ ['ПРОВЕСТИ ПО ПОВЕРХНОСТИ']\n",
      "ЗАХЛОПАТЬ ГЛАЗАМИ ['ШЕВЕЛИТЬ ЧАСТЬЮ ТЕЛА']\n",
      "СТРЕКОТАТЬ ['ПРОИЗНЕСТИ, ВЫГОВОРИТЬ, ПРОГОВОРИТЬ', 'БОЛТАТЬ, ЧЕСАТЬ ЯЗЫКОМ']\n",
      "СТРЕКОТАТЬ ['ИЗДАТЬ ЗВУК']\n",
      "ПОКРИКИВАТЬ ['ПРОИЗНЕСТИ, ВЫГОВОРИТЬ, ПРОГОВОРИТЬ']\n",
      "ПОКРИКИВАТЬ ['ИЗДАТЬ ЗВУК']\n",
      "ТОПАТЬ ['УДАРИТЬ, НАНЕСТИ УДАР']\n",
      "ЦАПАТЬ ['ХВАТАТЬ, СХВАТИТЬ']\n",
      "ПЕРЕМАХИВАТЬ ['ПРЫГАТЬ, ДЕЛАТЬ ПРЫЖОК', 'ПЕРЕСЕЧЬ ПРИ ДВИЖЕНИИ']\n",
      "ШУШУКАТЬСЯ ['РАЗГОВОР, БЕСЕДА', 'ШЕПТАТЬ']\n",
      "РОКОТАТЬ ['ИЗДАТЬ ЗВУК']\n",
      "БАБАХАТЬ ['БРОСИТЬ (ПЕРЕМЕСТИТЬ)', 'ХРЯСТНУТЬ (СИЛЬНО УДАРИТЬ)']\n",
      "БАБАХАТЬ ['ИЗДАТЬ ЗВУК', 'УДАРИТЬ (РАЗДАТЬСЯ О РЕЗКОМ ЗВУКЕ)']\n",
      "ЗАВЫВАТЬ ['ИЗДАТЬ ЗВУК']\n",
      "ОТБРЫКИВАТЬСЯ ['ИЗБАВИТЬСЯ', 'УКЛОНИТЬСЯ (ОТКАЗАТЬСЯ)']\n",
      "ПРЫСКАТЬ ['БЕЖАТЬ (ДВИГАТЬСЯ НА НОГАХ)', 'РАССЕЯТЬСЯ В РАЗНЫЕ СТОРОНЫ']\n",
      "ПРЫСКАТЬ ['БРЫЗГАТЬ, РАЗБРАСЫВАТЬ БРЫЗГИ']\n",
      "ВСКРИКИВАТЬ ['КРИЧАТЬ, ИЗДАВАТЬ КРИК']\n",
      "ПОНЫРЯТЬ ['ПОГРУЗИТЬСЯ В ЖИДКОСТЬ']\n",
      "ШМЯКАТЬСЯ ['ПАДАТЬ (ДВИГАТЬСЯ ВНИЗ)']\n",
      "ЗАВИЗЖАТЬ ['ИЗДАТЬ ЗВУК']\n",
      "ЗАТОПАТЬ  НОГАМИ ['УДАРИТЬ, НАНЕСТИ УДАР']\n",
      "ЗАЛАЯТЬ ['ИЗДАТЬ ЗВУК']\n",
      "БАХАТЬСЯ ['ПАДАТЬ (ДВИГАТЬСЯ ВНИЗ)']\n",
      "ХЛОПАТЬ ГЛАЗАМИ ['ШЕВЕЛИТЬ ЧАСТЬЮ ТЕЛА']\n",
      "ОТМЯКАТЬ ['РАЗМЯГЧИТЬСЯ (СТАТЬ МЯГКИМ, МЯГЧЕ)']\n",
      "ОТМЯКАТЬ ['ИЗМЕНЕНИЕ СОСТОЯНИЯ']\n",
      "ЧИРИКАТЬ ['ПЕНИЕ ПТИЦЫ']\n",
      "ПОКУВЫРКАТЬСЯ ['ПЕРЕВАЛИТЬСЯ (ПЕРЕВЕРНУТЬСЯ)', 'ПЕРЕВОРОТ ЧЕРЕЗ ГОЛОВУ']\n",
      "БУРЧАТЬ ['БОРМОТАТЬ']\n",
      "БУРЧАТЬ ['ИЗДАТЬ ЗВУК']\n",
      "ВОЗИТЬСЯ ['ЗАБОТИТЬСЯ, ОКРУЖИТЬ ЗАБОТОЙ', 'МЕДЛИТЬ']\n",
      "ВОЗИТЬСЯ ['ДВИЖЕНИЕ, ПЕРЕМЕЩЕНИЕ']\n",
      "ЗАПИХИВАТЬ ['ВВЕСТИ ВНУТРЬ']\n",
      "ИСТОШНО КРИЧАТЬ ['КРИЧАТЬ, ИЗДАВАТЬ КРИК']\n",
      "СПИХИВАТЬ ['СБРОСИТЬ ВНИЗ', 'ПОДВИНУТЬ, СДВИНУТЬ']\n",
      "ИЗЖАРИТЬСЯ ['ПРИГОТОВЛЕНИЕ ПИЩИ', 'НАГРЕТЬСЯ']\n",
      "ХАРКАТЬ ['ВЫПЛЮНУТЬ']\n",
      "ЗАЛИВАТЬСЯ ['ПОКРЫТЬ ПОВЕРХНОСТЬ', 'ЛИТЬ ЖИДКОСТЬ']\n",
      "ЗАЛИВАТЬСЯ ['ИЗДАТЬ ЗВУК', 'ЗАПЕТЬ ПЕСНЮ']\n",
      "ЗАЛИВАТЬСЯ ['ВЛИТЬСЯ ВНУТРЬ']\n",
      "ЗАЛИВАТЬСЯ ['ПАЧКАТЬСЯ, СТАНОВИТЬСЯ ГРЯЗНЫМ']\n",
      "ЗАЛИВАТЬСЯ ['ПОКРЫТЬСЯ НА ПОВЕРХНОСТИ']\n",
      "ЩИПАТЬ ПЕРЬЯ ['ВЫЩИПАТЬ (ВЫРВАТЬ)']\n",
      "ВИЛЯТЬ ['ПРОЛЕГАТЬ, ПРОХОДИТЬ', 'ПРОТЕКАТЬ (ПРОТЯНУТЬСЯ)']\n",
      "ВИЛЯТЬ ['ПОВЕРНУТЬ ПРИ ДВИЖЕНИИ']\n",
      "ВИЛЯТЬ ['ХИТРОСТЬ (ПОСТУПОК)', 'УКЛОНИТЬСЯ (ОТКАЗАТЬСЯ)']\n",
      "ВИЛЯТЬ ['КАЧАТЬ (КОЛЕБАТЬ)']\n",
      "ВЫПИХИВАТЬ ['УДАЛИТЬ НАРУЖУ', 'ВЫБРОСИТЬ (УДАЛИТЬ)']\n"
     ]
    }
   ],
   "source": [
    "votes = Counter()\n",
    "dists, ids = tree.query(vectorize('кудахтать').reshape(1, -1), k=100)\n",
    "for idx, distance in zip(ids[0], dists[0]):\n",
    "    for hyper in wn[synset_ids[idx]].hypernyms:\n",
    "        votes[hyper.id] += distance2vote(distance)\n",
    "    print(words[idx], [t.title for t in wn[synset_ids[idx]].hypernyms])"
   ]
  },
  {
   "cell_type": "code",
   "execution_count": 10,
   "metadata": {
    "scrolled": true
   },
   "outputs": [
    {
     "name": "stdout",
     "output_type": "stream",
     "text": [
      "0.6925543543920146 ИЗДАТЬ ЗВУК\n",
      "0.4306341411813687 ПРОИЗНЕСТИ, ВЫГОВОРИТЬ, ПРОГОВОРИТЬ\n",
      "0.29578542267095376 ДВИЖЕНИЕ, ПЕРЕМЕЩЕНИЕ\n",
      "0.21784698084743057 СМЕЯТЬСЯ (ИЗДАВАТЬ СМЕХ)\n",
      "0.19409141918335493 ПЛЕСКАТЬСЯ В ВОДЕ\n",
      "0.1325509436427577 РАЗРАЗИТЬСЯ (БУРНО ВЫРАЗИТЬ)\n",
      "0.11629879019881803 БОЛТАТЬ, ЧЕСАТЬ ЯЗЫКОМ\n",
      "0.11420901282482374 УДАРИТЬ, НАНЕСТИ УДАР\n",
      "0.11343697413233847 ШЕВЕЛИТЬ ЧАСТЬЮ ТЕЛА\n",
      "0.11267866978103516 КРИЧАТЬ, ИЗДАВАТЬ КРИК\n"
     ]
    }
   ],
   "source": [
    "for sid, score in votes.most_common(10):\n",
    "    print(score,  wn[sid].title)"
   ]
  },
  {
   "cell_type": "markdown",
   "metadata": {},
   "source": [
    "# Найди лишнее \n",
    "ДИВАН, ШКАФ, ЛАМПА, СТОЛ"
   ]
  },
  {
   "cell_type": "code",
   "execution_count": 36,
   "metadata": {},
   "outputs": [],
   "source": [
    "import math\n",
    "\n",
    "\n",
    "def get_all_hypernyms(wn, word, max_level=100):\n",
    "    \"\"\" Return dict of all hypernyms of a word and their distances \"\"\"\n",
    "    front = [sense.synset for sense in wn.get_senses(word)]\n",
    "    levels = {}\n",
    "    for level in range(max_level):\n",
    "        if not front:\n",
    "            break\n",
    "        new_front = []\n",
    "        for synset in front:\n",
    "            if synset.id not in levels:\n",
    "                levels[synset.id] = level\n",
    "                new_front.extend(synset.hypernyms)\n",
    "        front = new_front\n",
    "    return levels\n",
    "\n",
    "def get_closest_common(levels1, levels2):\n",
    "    \"\"\" Find the closest common hypernym and sum of distances to it\"\"\"\n",
    "    result = None\n",
    "    result_distance = math.inf\n",
    "    for id, distance in levels1.items():\n",
    "        if id in levels2:\n",
    "            total = distance + levels2[id]\n",
    "            if total < result_distance:\n",
    "                result_distance = total\n",
    "                result = id\n",
    "    return result, result_distance"
   ]
  },
  {
   "cell_type": "code",
   "execution_count": 41,
   "metadata": {},
   "outputs": [
    {
     "name": "stdout",
     "output_type": "stream",
     "text": [
      "\t\t ДИВАН\tШКАФ\tЛАМПА\tСТОЛ\n",
      "ДИВАН\t0\t\t3\t\t10\t\t3\t\t\n",
      "ШКАФ\t3\t\t0\t\t5\t\t2\t\t\n",
      "ЛАМПА\t10\t\t5\t\t0\t\t7\t\t\n",
      "СТОЛ\t3\t\t2\t\t7\t\t0\t\t\n"
     ]
    }
   ],
   "source": [
    "words = ['ДИВАН', 'ШКАФ', 'ЛАМПА', 'СТОЛ']\n",
    "print('\\t\\t', '\\t'.join(words))\n",
    "for w1 in words:\n",
    "    print(w1, end='\\t')\n",
    "    for w2 in words:\n",
    "        n, d = get_closest_common(get_all_hypernyms(wn, w1), get_all_hypernyms(wn, w2))\n",
    "        print(d, end='\\t\\t')\n",
    "    print()"
   ]
  },
  {
   "cell_type": "code",
   "execution_count": 42,
   "metadata": {},
   "outputs": [
    {
     "name": "stdout",
     "output_type": "stream",
     "text": [
      "5 106555-N ТЕХНИЧЕСКОЕ УСТРОЙСТВО\n"
     ]
    }
   ],
   "source": [
    "name, distance = get_closest_common(get_all_hypernyms(wn, 'лампа'), get_all_hypernyms(wn, 'шкаф'))\n",
    "print(distance, name, wn[name].title)"
   ]
  },
  {
   "cell_type": "code",
   "execution_count": 43,
   "metadata": {},
   "outputs": [
    {
     "name": "stdout",
     "output_type": "stream",
     "text": [
      "128561-N 0 Synset(id=\"128561-N\", title=\"ОСВЕТИТЕЛЬНЫЙ ПРИБОР\")\n",
      "8785-N 0 Synset(id=\"8785-N\", title=\"ЭЛЕКТРИЧЕСКАЯ ЛАМПА\")\n",
      "107646-N 1 Synset(id=\"107646-N\", title=\"ИСТОЧНИК ОСВЕЩЕНИЯ\")\n",
      "4222-N 1 Synset(id=\"4222-N\", title=\"СВЕТОТЕХНИЧЕСКОЕ ОБОРУДОВАНИЕ\")\n",
      "106488-N 2 Synset(id=\"106488-N\", title=\"ИСХОДНЫЙ ПУНКТ\")\n",
      "2070-N 2 Synset(id=\"2070-N\", title=\"ЭЛЕКТРОТЕХНИЧЕСКОЕ ОБОРУДОВАНИЕ\")\n",
      "106613-N 3 Synset(id=\"106613-N\", title=\"РОЛЬ, ПОЛОЖЕНИЕ, МЕСТО\")\n",
      "149201-N 3 Synset(id=\"149201-N\", title=\"ИНЖЕНЕРНОЕ ОБОРУДОВАНИЕ\")\n",
      "106555-N 4 Synset(id=\"106555-N\", title=\"ТЕХНИЧЕСКОЕ УСТРОЙСТВО\")\n",
      "1320-N 4 Synset(id=\"1320-N\", title=\"ОБОРУДОВАНИЕ\")\n",
      "106553-N 5 Synset(id=\"106553-N\", title=\"ПРИСПОСОБЛЕНИЕ, ИНСТРУМЕНТ\")\n",
      "106554-N 6 Synset(id=\"106554-N\", title=\"ПРЕДМЕТ, ВЕЩЬ\")\n",
      "147133-N 7 Synset(id=\"147133-N\", title=\"ФИЗИЧЕСКИЙ ОБЪЕКТ\")\n",
      "147134-N 8 Synset(id=\"147134-N\", title=\"ФИЗИЧЕСКАЯ СУЩНОСТЬ\")\n",
      "153782-N 9 Synset(id=\"153782-N\", title=\"ПОСТОЯННАЯ СУЩНОСТЬ\")\n"
     ]
    }
   ],
   "source": [
    "for k, v in get_all_hypernyms(wn, 'лампа').items():\n",
    "    print(k, v, wn[k])"
   ]
  },
  {
   "cell_type": "code",
   "execution_count": 44,
   "metadata": {},
   "outputs": [
    {
     "data": {
      "text/plain": [
       "[Synset(id=\"106555-N\", title=\"ТЕХНИЧЕСКОЕ УСТРОЙСТВО\"),\n",
       " Synset(id=\"1320-N\", title=\"ОБОРУДОВАНИЕ\")]"
      ]
     },
     "execution_count": 44,
     "metadata": {},
     "output_type": "execute_result"
    }
   ],
   "source": [
    "wn[\"149201-N\"].hypernyms"
   ]
  },
  {
   "cell_type": "code",
   "execution_count": 45,
   "metadata": {},
   "outputs": [
    {
     "name": "stdout",
     "output_type": "stream",
     "text": [
      "107294-N 0 Synset(id=\"107294-N\", title=\"СТОЛ\")\n",
      "146834-N 0 Synset(id=\"146834-N\", title=\"СТОЛ ДЛЯ ЕДЫ\")\n",
      "106554-N 1 Synset(id=\"106554-N\", title=\"ПРЕДМЕТ, ВЕЩЬ\")\n",
      "1253-N 1 Synset(id=\"1253-N\", title=\"МЕБЕЛЬ\")\n",
      "147133-N 2 Synset(id=\"147133-N\", title=\"ФИЗИЧЕСКИЙ ОБЪЕКТ\")\n",
      "130019-N 2 Synset(id=\"130019-N\", title=\"НЕПРОДОВОЛЬСТВЕННЫЕ ТОВАРЫ\")\n",
      "146828-N 2 Synset(id=\"146828-N\", title=\"ПРЕДМЕТ ИНТЕРЬЕРА\")\n",
      "9059-N 2 Synset(id=\"9059-N\", title=\"ПРОДУКЦИЯ ДЕРЕВООБРАБОТКИ\")\n",
      "147134-N 3 Synset(id=\"147134-N\", title=\"ФИЗИЧЕСКАЯ СУЩНОСТЬ\")\n",
      "1252-N 3 Synset(id=\"1252-N\", title=\"ПОТРЕБИТЕЛЬСКИЕ ТОВАРЫ\")\n",
      "56-N 3 Synset(id=\"56-N\", title=\"ПРОМЫШЛЕННАЯ ПРОДУКЦИЯ\")\n",
      "562-N 3 Synset(id=\"562-N\", title=\"ТОВАР\")\n",
      "106507-N 3 Synset(id=\"106507-N\", title=\"ПРОДУКТ ПРОИЗВОДСТВА\")\n",
      "153782-N 4 Synset(id=\"153782-N\", title=\"ПОСТОЯННАЯ СУЩНОСТЬ\")\n",
      "106505-N 4 Synset(id=\"106505-N\", title=\"ПРОДУКТ ТРУДА\")\n"
     ]
    }
   ],
   "source": [
    "for k, v in get_all_hypernyms(wn, 'стол').items():\n",
    "    print(k, v, wn[k])"
   ]
  },
  {
   "cell_type": "markdown",
   "metadata": {},
   "source": [
    "# Word sense disambiguation "
   ]
  },
  {
   "cell_type": "markdown",
   "metadata": {},
   "source": [
    "зАмок или замОк ?\n",
    "\n",
    "Примитивный алгоритм: для каждого значения находим синонимы и проверяем, какие ближе по fasttext-эмбеддингу к словам контекста.\n",
    "\n",
    "Для верности, стоило бы кроме синонимов взять ещё и ко-гипонимы. "
   ]
  },
  {
   "cell_type": "code",
   "execution_count": 50,
   "metadata": {},
   "outputs": [],
   "source": [
    "import razdel"
   ]
  },
  {
   "cell_type": "code",
   "execution_count": 59,
   "metadata": {},
   "outputs": [],
   "source": [
    "context = '''Сначала шов слегка уплотняем молоточком, затем прочеканиваем на нём замок \n",
    "― бороздку, называемую \"зигом\", которая будет препятствовать расхождению шва при дальнейшем его уплотнении.'''\n",
    "word = 'замок'"
   ]
  },
  {
   "cell_type": "code",
   "execution_count": 73,
   "metadata": {},
   "outputs": [
    {
     "data": {
      "text/plain": [
       "{0.42644112415415647: Synset(id=\"126228-N\", title=\"СРЕДНЕВЕКОВЫЙ ЗАМОК\"),\n",
       " 0.48645881572125504: Synset(id=\"114707-N\", title=\"ЗАМОК ДЛЯ ЗАПИРАНИЯ\")}"
      ]
     },
     "execution_count": 73,
     "metadata": {},
     "output_type": "execute_result"
    }
   ],
   "source": [
    "def disambiguate(word, context):\n",
    "    candidates = [s.synset for s in wn[word]]\n",
    "    text_vector = vectorize(' '.join(t.text for t in razdel.tokenize(context) if t.text != word))\n",
    "    candidate_vectors = [\n",
    "        vectorize(' '.join(w for s in c.senses for w in s.name.lower().split() if name != word))\n",
    "        for c in candidates\n",
    "    ]\n",
    "    scores = [np.dot(text_vector, v) for v in candidate_vectors]\n",
    "    return dict(zip(scores, candidates))\n",
    "\n",
    "disambiguate(word, context)"
   ]
  },
  {
   "cell_type": "code",
   "execution_count": 74,
   "metadata": {},
   "outputs": [
    {
     "data": {
      "text/plain": [
       "{0.503628168496375: Synset(id=\"126228-N\", title=\"СРЕДНЕВЕКОВЫЙ ЗАМОК\"),\n",
       " 0.43922931199345167: Synset(id=\"114707-N\", title=\"ЗАМОК ДЛЯ ЗАПИРАНИЯ\")}"
      ]
     },
     "execution_count": 74,
     "metadata": {},
     "output_type": "execute_result"
    }
   ],
   "source": [
    "context = '''Издали видны королевский замок Вавель и кафедральный собор Святых Вацлава и Станислава \n",
    "― настоящие шедевры зодчества.'''\n",
    "disambiguate(word, context)"
   ]
  },
  {
   "cell_type": "code",
   "execution_count": null,
   "metadata": {},
   "outputs": [],
   "source": []
  }
 ],
 "metadata": {
  "kernelspec": {
   "display_name": "Python 3",
   "language": "python",
   "name": "python3"
  },
  "language_info": {
   "codemirror_mode": {
    "name": "ipython",
    "version": 3
   },
   "file_extension": ".py",
   "mimetype": "text/x-python",
   "name": "python",
   "nbconvert_exporter": "python",
   "pygments_lexer": "ipython3",
   "version": "3.7.9"
  }
 },
 "nbformat": 4,
 "nbformat_minor": 4
}
